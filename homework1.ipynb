{
  "cells": [
    {
      "cell_type": "markdown",
      "source": [
        "# Homework 1 (100 points)\n",
        "\n",
        "The goal of this homework is to practice using [pandas](https://pypi.org/project/pandas/) methods. If your:\n",
        "\n",
        "1. code is taking a long time to run\n",
        "2. code involves for loops or while loops\n",
        "\n",
        "look through the pandas documentation for alternatives.\n",
        "\n",
        "## Exercise 1 (60 points)\n",
        "\n",
        "This exercise will use the [Titanic dataset](https://www.kaggle.com/c/titanic/data) (https://www.kaggle.com/c/titanic/data). Download the file named `train.csv` and place it in the same folder as this notebook.\n",
        "\n",
        "a) Write a function that reads in a filepath to a csv and returns the DataFrame. (5 points)"
      ],
      "metadata": {
        "id": "_YeKW66Xq1QI"
      }
    },
    {
      "cell_type": "code",
      "execution_count": null,
      "source": [
        "import pandas as pd\n",
        "url = 'https://raw.githubusercontent.com/CS506-Boston-University/homework1-marknam1999/main/train.csv'\n",
        "df = pd.read_csv(url)\n",
        "df.describe()"
      ],
      "outputs": [
        {
          "output_type": "execute_result",
          "data": {
            "text/html": [
              "\n",
              "  <div id=\"df-3084b6b6-bf75-4080-b818-0aaa3fb73592\">\n",
              "    <div class=\"colab-df-container\">\n",
              "      <div>\n",
              "<style scoped>\n",
              "    .dataframe tbody tr th:only-of-type {\n",
              "        vertical-align: middle;\n",
              "    }\n",
              "\n",
              "    .dataframe tbody tr th {\n",
              "        vertical-align: top;\n",
              "    }\n",
              "\n",
              "    .dataframe thead th {\n",
              "        text-align: right;\n",
              "    }\n",
              "</style>\n",
              "<table border=\"1\" class=\"dataframe\">\n",
              "  <thead>\n",
              "    <tr style=\"text-align: right;\">\n",
              "      <th></th>\n",
              "      <th>PassengerId</th>\n",
              "      <th>Survived</th>\n",
              "      <th>Pclass</th>\n",
              "      <th>Age</th>\n",
              "      <th>SibSp</th>\n",
              "      <th>Parch</th>\n",
              "      <th>Fare</th>\n",
              "    </tr>\n",
              "  </thead>\n",
              "  <tbody>\n",
              "    <tr>\n",
              "      <th>count</th>\n",
              "      <td>891.000000</td>\n",
              "      <td>891.000000</td>\n",
              "      <td>891.000000</td>\n",
              "      <td>714.000000</td>\n",
              "      <td>891.000000</td>\n",
              "      <td>891.000000</td>\n",
              "      <td>891.000000</td>\n",
              "    </tr>\n",
              "    <tr>\n",
              "      <th>mean</th>\n",
              "      <td>446.000000</td>\n",
              "      <td>0.383838</td>\n",
              "      <td>2.308642</td>\n",
              "      <td>29.699118</td>\n",
              "      <td>0.523008</td>\n",
              "      <td>0.381594</td>\n",
              "      <td>32.204208</td>\n",
              "    </tr>\n",
              "    <tr>\n",
              "      <th>std</th>\n",
              "      <td>257.353842</td>\n",
              "      <td>0.486592</td>\n",
              "      <td>0.836071</td>\n",
              "      <td>14.526497</td>\n",
              "      <td>1.102743</td>\n",
              "      <td>0.806057</td>\n",
              "      <td>49.693429</td>\n",
              "    </tr>\n",
              "    <tr>\n",
              "      <th>min</th>\n",
              "      <td>1.000000</td>\n",
              "      <td>0.000000</td>\n",
              "      <td>1.000000</td>\n",
              "      <td>0.420000</td>\n",
              "      <td>0.000000</td>\n",
              "      <td>0.000000</td>\n",
              "      <td>0.000000</td>\n",
              "    </tr>\n",
              "    <tr>\n",
              "      <th>25%</th>\n",
              "      <td>223.500000</td>\n",
              "      <td>0.000000</td>\n",
              "      <td>2.000000</td>\n",
              "      <td>20.125000</td>\n",
              "      <td>0.000000</td>\n",
              "      <td>0.000000</td>\n",
              "      <td>7.910400</td>\n",
              "    </tr>\n",
              "    <tr>\n",
              "      <th>50%</th>\n",
              "      <td>446.000000</td>\n",
              "      <td>0.000000</td>\n",
              "      <td>3.000000</td>\n",
              "      <td>28.000000</td>\n",
              "      <td>0.000000</td>\n",
              "      <td>0.000000</td>\n",
              "      <td>14.454200</td>\n",
              "    </tr>\n",
              "    <tr>\n",
              "      <th>75%</th>\n",
              "      <td>668.500000</td>\n",
              "      <td>1.000000</td>\n",
              "      <td>3.000000</td>\n",
              "      <td>38.000000</td>\n",
              "      <td>1.000000</td>\n",
              "      <td>0.000000</td>\n",
              "      <td>31.000000</td>\n",
              "    </tr>\n",
              "    <tr>\n",
              "      <th>max</th>\n",
              "      <td>891.000000</td>\n",
              "      <td>1.000000</td>\n",
              "      <td>3.000000</td>\n",
              "      <td>80.000000</td>\n",
              "      <td>8.000000</td>\n",
              "      <td>6.000000</td>\n",
              "      <td>512.329200</td>\n",
              "    </tr>\n",
              "  </tbody>\n",
              "</table>\n",
              "</div>\n",
              "      <button class=\"colab-df-convert\" onclick=\"convertToInteractive('df-3084b6b6-bf75-4080-b818-0aaa3fb73592')\"\n",
              "              title=\"Convert this dataframe to an interactive table.\"\n",
              "              style=\"display:none;\">\n",
              "        \n",
              "  <svg xmlns=\"http://www.w3.org/2000/svg\" height=\"24px\"viewBox=\"0 0 24 24\"\n",
              "       width=\"24px\">\n",
              "    <path d=\"M0 0h24v24H0V0z\" fill=\"none\"/>\n",
              "    <path d=\"M18.56 5.44l.94 2.06.94-2.06 2.06-.94-2.06-.94-.94-2.06-.94 2.06-2.06.94zm-11 1L8.5 8.5l.94-2.06 2.06-.94-2.06-.94L8.5 2.5l-.94 2.06-2.06.94zm10 10l.94 2.06.94-2.06 2.06-.94-2.06-.94-.94-2.06-.94 2.06-2.06.94z\"/><path d=\"M17.41 7.96l-1.37-1.37c-.4-.4-.92-.59-1.43-.59-.52 0-1.04.2-1.43.59L10.3 9.45l-7.72 7.72c-.78.78-.78 2.05 0 2.83L4 21.41c.39.39.9.59 1.41.59.51 0 1.02-.2 1.41-.59l7.78-7.78 2.81-2.81c.8-.78.8-2.07 0-2.86zM5.41 20L4 18.59l7.72-7.72 1.47 1.35L5.41 20z\"/>\n",
              "  </svg>\n",
              "      </button>\n",
              "      \n",
              "  <style>\n",
              "    .colab-df-container {\n",
              "      display:flex;\n",
              "      flex-wrap:wrap;\n",
              "      gap: 12px;\n",
              "    }\n",
              "\n",
              "    .colab-df-convert {\n",
              "      background-color: #E8F0FE;\n",
              "      border: none;\n",
              "      border-radius: 50%;\n",
              "      cursor: pointer;\n",
              "      display: none;\n",
              "      fill: #1967D2;\n",
              "      height: 32px;\n",
              "      padding: 0 0 0 0;\n",
              "      width: 32px;\n",
              "    }\n",
              "\n",
              "    .colab-df-convert:hover {\n",
              "      background-color: #E2EBFA;\n",
              "      box-shadow: 0px 1px 2px rgba(60, 64, 67, 0.3), 0px 1px 3px 1px rgba(60, 64, 67, 0.15);\n",
              "      fill: #174EA6;\n",
              "    }\n",
              "\n",
              "    [theme=dark] .colab-df-convert {\n",
              "      background-color: #3B4455;\n",
              "      fill: #D2E3FC;\n",
              "    }\n",
              "\n",
              "    [theme=dark] .colab-df-convert:hover {\n",
              "      background-color: #434B5C;\n",
              "      box-shadow: 0px 1px 3px 1px rgba(0, 0, 0, 0.15);\n",
              "      filter: drop-shadow(0px 1px 2px rgba(0, 0, 0, 0.3));\n",
              "      fill: #FFFFFF;\n",
              "    }\n",
              "  </style>\n",
              "\n",
              "      <script>\n",
              "        const buttonEl =\n",
              "          document.querySelector('#df-3084b6b6-bf75-4080-b818-0aaa3fb73592 button.colab-df-convert');\n",
              "        buttonEl.style.display =\n",
              "          google.colab.kernel.accessAllowed ? 'block' : 'none';\n",
              "\n",
              "        async function convertToInteractive(key) {\n",
              "          const element = document.querySelector('#df-3084b6b6-bf75-4080-b818-0aaa3fb73592');\n",
              "          const dataTable =\n",
              "            await google.colab.kernel.invokeFunction('convertToInteractive',\n",
              "                                                     [key], {});\n",
              "          if (!dataTable) return;\n",
              "\n",
              "          const docLinkHtml = 'Like what you see? Visit the ' +\n",
              "            '<a target=\"_blank\" href=https://colab.research.google.com/notebooks/data_table.ipynb>data table notebook</a>'\n",
              "            + ' to learn more about interactive tables.';\n",
              "          element.innerHTML = '';\n",
              "          dataTable['output_type'] = 'display_data';\n",
              "          await google.colab.output.renderOutput(dataTable, element);\n",
              "          const docLink = document.createElement('div');\n",
              "          docLink.innerHTML = docLinkHtml;\n",
              "          element.appendChild(docLink);\n",
              "        }\n",
              "      </script>\n",
              "    </div>\n",
              "  </div>\n",
              "  "
            ],
            "text/plain": [
              "       PassengerId    Survived      Pclass  ...       SibSp       Parch        Fare\n",
              "count   891.000000  891.000000  891.000000  ...  891.000000  891.000000  891.000000\n",
              "mean    446.000000    0.383838    2.308642  ...    0.523008    0.381594   32.204208\n",
              "std     257.353842    0.486592    0.836071  ...    1.102743    0.806057   49.693429\n",
              "min       1.000000    0.000000    1.000000  ...    0.000000    0.000000    0.000000\n",
              "25%     223.500000    0.000000    2.000000  ...    0.000000    0.000000    7.910400\n",
              "50%     446.000000    0.000000    3.000000  ...    0.000000    0.000000   14.454200\n",
              "75%     668.500000    1.000000    3.000000  ...    1.000000    0.000000   31.000000\n",
              "max     891.000000    1.000000    3.000000  ...    8.000000    6.000000  512.329200\n",
              "\n",
              "[8 rows x 7 columns]"
            ]
          },
          "metadata": {},
          "execution_count": 103
        }
      ],
      "metadata": {
        "id": "pkk3t9U6q1QM",
        "outputId": "b56121fa-0dc5-4df5-ceb3-b98b62da1067",
        "colab": {
          "base_uri": "https://localhost:8080/",
          "height": 300
        }
      }
    },
    {
      "cell_type": "markdown",
      "source": [
        "b) Write a function that returns the number of rows that have at least one empty column value - (2.5 points)"
      ],
      "metadata": {
        "id": "-efsUWHLq1QO"
      }
    },
    {
      "cell_type": "code",
      "execution_count": null,
      "source": [
        "def num_nans(df):\n",
        "  count = 0\n",
        "  for i, row in df.iterrows():\n",
        "    for j in range(len(row)):\n",
        "      value = row[j]\n",
        "      if pd.isnull(value):\n",
        "        count +=1\n",
        "  return count\n",
        "\n",
        "print(\"there are \" +  str(num_nans(df)) + \" rows with at least one empty value\")"
      ],
      "outputs": [
        {
          "output_type": "stream",
          "name": "stdout",
          "text": [
            "there are 866 rows with at least one empty value\n"
          ]
        }
      ],
      "metadata": {
        "id": "l41clOUMq1QP",
        "outputId": "6737bfae-3a6f-467f-fd6f-24c544ff7c8e",
        "colab": {
          "base_uri": "https://localhost:8080/"
        }
      }
    },
    {
      "cell_type": "markdown",
      "source": [
        "c) Write a function that removes all columns with more than 200 NaN values - (2.5 points)"
      ],
      "metadata": {
        "id": "dudSUa4Mq1QQ"
      }
    },
    {
      "cell_type": "code",
      "execution_count": null,
      "source": [
        "def drop_na(df):\n",
        "  for Name in df.columns:\n",
        "    threshhold = df[Name].isnull().sum()\n",
        "    if threshhold > 200:\n",
        "      del df[Name]    \n",
        "  return df\n",
        "   \n",
        "df = drop_na(df)\n",
        "df.columns"
      ],
      "outputs": [
        {
          "output_type": "execute_result",
          "data": {
            "text/plain": [
              "Index(['PassengerId', 'Survived', 'Pclass', 'Name', 'Sex', 'Age', 'SibSp',\n",
              "       'Parch', 'Ticket', 'Fare', 'Embarked'],\n",
              "      dtype='object')"
            ]
          },
          "metadata": {},
          "execution_count": 105
        }
      ],
      "metadata": {
        "id": "0_T0BoHPq1QR",
        "outputId": "22ef7bef-135b-4787-d586-193d6a74c5c7",
        "colab": {
          "base_uri": "https://localhost:8080/"
        }
      }
    },
    {
      "cell_type": "markdown",
      "source": [
        "d) Write a function that replaces `male` with 0 and `female` with 1 - (2.5 points)"
      ],
      "metadata": {
        "id": "HscP4E5lq1QR"
      }
    },
    {
      "cell_type": "code",
      "execution_count": null,
      "source": [
        "def to_numerical(df):\n",
        "  df.loc[df[\"Sex\"] == \"male\", \"Sex\"] = 0\n",
        "  df.loc[df[\"Sex\"] == \"female\", \"Sex\"] = 1\n",
        "  return df['Sex']\n",
        "\n",
        "df['Sex'] = to_numerical(df)\n",
        "df.head()"
      ],
      "outputs": [
        {
          "output_type": "execute_result",
          "data": {
            "text/html": [
              "\n",
              "  <div id=\"df-f34a6371-c99f-4e57-aec9-9692d157c6c8\">\n",
              "    <div class=\"colab-df-container\">\n",
              "      <div>\n",
              "<style scoped>\n",
              "    .dataframe tbody tr th:only-of-type {\n",
              "        vertical-align: middle;\n",
              "    }\n",
              "\n",
              "    .dataframe tbody tr th {\n",
              "        vertical-align: top;\n",
              "    }\n",
              "\n",
              "    .dataframe thead th {\n",
              "        text-align: right;\n",
              "    }\n",
              "</style>\n",
              "<table border=\"1\" class=\"dataframe\">\n",
              "  <thead>\n",
              "    <tr style=\"text-align: right;\">\n",
              "      <th></th>\n",
              "      <th>PassengerId</th>\n",
              "      <th>Survived</th>\n",
              "      <th>Pclass</th>\n",
              "      <th>Name</th>\n",
              "      <th>Sex</th>\n",
              "      <th>Age</th>\n",
              "      <th>SibSp</th>\n",
              "      <th>Parch</th>\n",
              "      <th>Ticket</th>\n",
              "      <th>Fare</th>\n",
              "      <th>Embarked</th>\n",
              "    </tr>\n",
              "  </thead>\n",
              "  <tbody>\n",
              "    <tr>\n",
              "      <th>0</th>\n",
              "      <td>1</td>\n",
              "      <td>0</td>\n",
              "      <td>3</td>\n",
              "      <td>Braund, Mr. Owen Harris</td>\n",
              "      <td>0</td>\n",
              "      <td>22.0</td>\n",
              "      <td>1</td>\n",
              "      <td>0</td>\n",
              "      <td>A/5 21171</td>\n",
              "      <td>7.2500</td>\n",
              "      <td>S</td>\n",
              "    </tr>\n",
              "    <tr>\n",
              "      <th>1</th>\n",
              "      <td>2</td>\n",
              "      <td>1</td>\n",
              "      <td>1</td>\n",
              "      <td>Cumings, Mrs. John Bradley (Florence Briggs Th...</td>\n",
              "      <td>1</td>\n",
              "      <td>38.0</td>\n",
              "      <td>1</td>\n",
              "      <td>0</td>\n",
              "      <td>PC 17599</td>\n",
              "      <td>71.2833</td>\n",
              "      <td>C</td>\n",
              "    </tr>\n",
              "    <tr>\n",
              "      <th>2</th>\n",
              "      <td>3</td>\n",
              "      <td>1</td>\n",
              "      <td>3</td>\n",
              "      <td>Heikkinen, Miss. Laina</td>\n",
              "      <td>1</td>\n",
              "      <td>26.0</td>\n",
              "      <td>0</td>\n",
              "      <td>0</td>\n",
              "      <td>STON/O2. 3101282</td>\n",
              "      <td>7.9250</td>\n",
              "      <td>S</td>\n",
              "    </tr>\n",
              "    <tr>\n",
              "      <th>3</th>\n",
              "      <td>4</td>\n",
              "      <td>1</td>\n",
              "      <td>1</td>\n",
              "      <td>Futrelle, Mrs. Jacques Heath (Lily May Peel)</td>\n",
              "      <td>1</td>\n",
              "      <td>35.0</td>\n",
              "      <td>1</td>\n",
              "      <td>0</td>\n",
              "      <td>113803</td>\n",
              "      <td>53.1000</td>\n",
              "      <td>S</td>\n",
              "    </tr>\n",
              "    <tr>\n",
              "      <th>4</th>\n",
              "      <td>5</td>\n",
              "      <td>0</td>\n",
              "      <td>3</td>\n",
              "      <td>Allen, Mr. William Henry</td>\n",
              "      <td>0</td>\n",
              "      <td>35.0</td>\n",
              "      <td>0</td>\n",
              "      <td>0</td>\n",
              "      <td>373450</td>\n",
              "      <td>8.0500</td>\n",
              "      <td>S</td>\n",
              "    </tr>\n",
              "  </tbody>\n",
              "</table>\n",
              "</div>\n",
              "      <button class=\"colab-df-convert\" onclick=\"convertToInteractive('df-f34a6371-c99f-4e57-aec9-9692d157c6c8')\"\n",
              "              title=\"Convert this dataframe to an interactive table.\"\n",
              "              style=\"display:none;\">\n",
              "        \n",
              "  <svg xmlns=\"http://www.w3.org/2000/svg\" height=\"24px\"viewBox=\"0 0 24 24\"\n",
              "       width=\"24px\">\n",
              "    <path d=\"M0 0h24v24H0V0z\" fill=\"none\"/>\n",
              "    <path d=\"M18.56 5.44l.94 2.06.94-2.06 2.06-.94-2.06-.94-.94-2.06-.94 2.06-2.06.94zm-11 1L8.5 8.5l.94-2.06 2.06-.94-2.06-.94L8.5 2.5l-.94 2.06-2.06.94zm10 10l.94 2.06.94-2.06 2.06-.94-2.06-.94-.94-2.06-.94 2.06-2.06.94z\"/><path d=\"M17.41 7.96l-1.37-1.37c-.4-.4-.92-.59-1.43-.59-.52 0-1.04.2-1.43.59L10.3 9.45l-7.72 7.72c-.78.78-.78 2.05 0 2.83L4 21.41c.39.39.9.59 1.41.59.51 0 1.02-.2 1.41-.59l7.78-7.78 2.81-2.81c.8-.78.8-2.07 0-2.86zM5.41 20L4 18.59l7.72-7.72 1.47 1.35L5.41 20z\"/>\n",
              "  </svg>\n",
              "      </button>\n",
              "      \n",
              "  <style>\n",
              "    .colab-df-container {\n",
              "      display:flex;\n",
              "      flex-wrap:wrap;\n",
              "      gap: 12px;\n",
              "    }\n",
              "\n",
              "    .colab-df-convert {\n",
              "      background-color: #E8F0FE;\n",
              "      border: none;\n",
              "      border-radius: 50%;\n",
              "      cursor: pointer;\n",
              "      display: none;\n",
              "      fill: #1967D2;\n",
              "      height: 32px;\n",
              "      padding: 0 0 0 0;\n",
              "      width: 32px;\n",
              "    }\n",
              "\n",
              "    .colab-df-convert:hover {\n",
              "      background-color: #E2EBFA;\n",
              "      box-shadow: 0px 1px 2px rgba(60, 64, 67, 0.3), 0px 1px 3px 1px rgba(60, 64, 67, 0.15);\n",
              "      fill: #174EA6;\n",
              "    }\n",
              "\n",
              "    [theme=dark] .colab-df-convert {\n",
              "      background-color: #3B4455;\n",
              "      fill: #D2E3FC;\n",
              "    }\n",
              "\n",
              "    [theme=dark] .colab-df-convert:hover {\n",
              "      background-color: #434B5C;\n",
              "      box-shadow: 0px 1px 3px 1px rgba(0, 0, 0, 0.15);\n",
              "      filter: drop-shadow(0px 1px 2px rgba(0, 0, 0, 0.3));\n",
              "      fill: #FFFFFF;\n",
              "    }\n",
              "  </style>\n",
              "\n",
              "      <script>\n",
              "        const buttonEl =\n",
              "          document.querySelector('#df-f34a6371-c99f-4e57-aec9-9692d157c6c8 button.colab-df-convert');\n",
              "        buttonEl.style.display =\n",
              "          google.colab.kernel.accessAllowed ? 'block' : 'none';\n",
              "\n",
              "        async function convertToInteractive(key) {\n",
              "          const element = document.querySelector('#df-f34a6371-c99f-4e57-aec9-9692d157c6c8');\n",
              "          const dataTable =\n",
              "            await google.colab.kernel.invokeFunction('convertToInteractive',\n",
              "                                                     [key], {});\n",
              "          if (!dataTable) return;\n",
              "\n",
              "          const docLinkHtml = 'Like what you see? Visit the ' +\n",
              "            '<a target=\"_blank\" href=https://colab.research.google.com/notebooks/data_table.ipynb>data table notebook</a>'\n",
              "            + ' to learn more about interactive tables.';\n",
              "          element.innerHTML = '';\n",
              "          dataTable['output_type'] = 'display_data';\n",
              "          await google.colab.output.renderOutput(dataTable, element);\n",
              "          const docLink = document.createElement('div');\n",
              "          docLink.innerHTML = docLinkHtml;\n",
              "          element.appendChild(docLink);\n",
              "        }\n",
              "      </script>\n",
              "    </div>\n",
              "  </div>\n",
              "  "
            ],
            "text/plain": [
              "   PassengerId  Survived  Pclass  ...            Ticket     Fare  Embarked\n",
              "0            1         0       3  ...         A/5 21171   7.2500         S\n",
              "1            2         1       1  ...          PC 17599  71.2833         C\n",
              "2            3         1       3  ...  STON/O2. 3101282   7.9250         S\n",
              "3            4         1       1  ...            113803  53.1000         S\n",
              "4            5         0       3  ...            373450   8.0500         S\n",
              "\n",
              "[5 rows x 11 columns]"
            ]
          },
          "metadata": {},
          "execution_count": 106
        }
      ],
      "metadata": {
        "id": "MdEm5OP_q1QS",
        "outputId": "d7cd54c8-248c-41dd-da47-ce9b6056faf3",
        "colab": {
          "base_uri": "https://localhost:8080/",
          "height": 206
        }
      }
    },
    {
      "cell_type": "markdown",
      "source": [
        "e)  Write a function that adds four columns `First Name`, `Middle Name`, `Last Name`, and `Title` corresponding to the value in the `name` column. - (5 points) \n",
        "\n",
        "For example: `Braund, Mr. Owen Harris` would be: \n",
        "\n",
        "|First Name | Middle Name | Last Name | Title |\n",
        "|-----------|-------------|-----------|-------|\n",
        "| Owen      |  Harris     |  Braund   | Mr    |"
      ],
      "metadata": {
        "id": "1AQS0-_Sq1QU"
      }
    },
    {
      "cell_type": "code",
      "execution_count": null,
      "source": [
        "def extract_names(df):\n",
        "  lstFirst = []\n",
        "  lstMiddle = []\n",
        "  lstLast = []\n",
        "  lstTitle = []\n",
        "  for i in range(len(df)):\n",
        "    Names = df['Name'].values[i].split(\" \")\n",
        "    if len(Names) == 4:\n",
        "      # appending last name to the list without the comma\n",
        "      lastName = Names[0]\n",
        "      lstLast.append(lastName[:-1])\n",
        "\n",
        "      # appending title to the list without the period\n",
        "      title = Names[1]\n",
        "      lstTitle.append(title[:-1])\n",
        "\n",
        "      # appending first name to the list\n",
        "      lstFirst.append(Names[2])\n",
        "\n",
        "      # appending middle name to the list\n",
        "      lstMiddle.append(Names[3])\n",
        "\n",
        "    elif len(Names) == 3: \n",
        "      # appending last name to the list without the comma\n",
        "      lastName = Names[0]\n",
        "      lstLast.append(lastName[:-1])\n",
        "\n",
        "      # appending title to the list without the period\n",
        "      title = Names[1]\n",
        "      lstTitle.append(title[:-1])\n",
        "\n",
        "      # appending first name to the list\n",
        "      lstFirst.append(Names[2])\n",
        "\n",
        "      # append an empty string to the middle name list since they dont have one\n",
        "      lstMiddle.append(\"\")\n",
        "    \n",
        "    elif len(Names) > 4:\n",
        "      # appending last name to the list without the comma\n",
        "      lastName = Names[0]\n",
        "      lstLast.append(lastName[:-1])\n",
        "\n",
        "      # appending title to the list without the period\n",
        "      title = Names[1]\n",
        "      lstTitle.append(title[:-1])\n",
        "\n",
        "      # appending first name to the list\n",
        "      lstFirst.append(Names[2])\n",
        "\n",
        "      # append the rest to the middle name list\n",
        "      middleName = \"\"\n",
        "      for i in range(3, len(Names)):\n",
        "        middleName += Names[i] + \" \"\n",
        "      lstMiddle.append(middleName)\n",
        "\n",
        "  df['First Name'] = lstFirst\n",
        "  df['Middle Name'] = lstMiddle\n",
        "  df['Last Name'] = lstLast\n",
        "  df['Title'] = lstTitle\n",
        "  return df[['First Name', 'Middle Name', 'Last Name', 'Title']]\n",
        "\n",
        "df[['First Name', 'Middle Name', 'Last Name', 'Title']] = extract_names(df)\n",
        "df.head()"
      ],
      "outputs": [
        {
          "output_type": "execute_result",
          "data": {
            "text/html": [
              "\n",
              "  <div id=\"df-dccea59f-8c29-4d08-b286-439a2842e865\">\n",
              "    <div class=\"colab-df-container\">\n",
              "      <div>\n",
              "<style scoped>\n",
              "    .dataframe tbody tr th:only-of-type {\n",
              "        vertical-align: middle;\n",
              "    }\n",
              "\n",
              "    .dataframe tbody tr th {\n",
              "        vertical-align: top;\n",
              "    }\n",
              "\n",
              "    .dataframe thead th {\n",
              "        text-align: right;\n",
              "    }\n",
              "</style>\n",
              "<table border=\"1\" class=\"dataframe\">\n",
              "  <thead>\n",
              "    <tr style=\"text-align: right;\">\n",
              "      <th></th>\n",
              "      <th>PassengerId</th>\n",
              "      <th>Survived</th>\n",
              "      <th>Pclass</th>\n",
              "      <th>Name</th>\n",
              "      <th>Sex</th>\n",
              "      <th>Age</th>\n",
              "      <th>SibSp</th>\n",
              "      <th>Parch</th>\n",
              "      <th>Ticket</th>\n",
              "      <th>Fare</th>\n",
              "      <th>Embarked</th>\n",
              "      <th>First Name</th>\n",
              "      <th>Middle Name</th>\n",
              "      <th>Last Name</th>\n",
              "      <th>Title</th>\n",
              "    </tr>\n",
              "  </thead>\n",
              "  <tbody>\n",
              "    <tr>\n",
              "      <th>0</th>\n",
              "      <td>1</td>\n",
              "      <td>0</td>\n",
              "      <td>3</td>\n",
              "      <td>Braund, Mr. Owen Harris</td>\n",
              "      <td>0</td>\n",
              "      <td>22.0</td>\n",
              "      <td>1</td>\n",
              "      <td>0</td>\n",
              "      <td>A/5 21171</td>\n",
              "      <td>7.2500</td>\n",
              "      <td>S</td>\n",
              "      <td>Owen</td>\n",
              "      <td>Harris</td>\n",
              "      <td>Braund</td>\n",
              "      <td>Mr</td>\n",
              "    </tr>\n",
              "    <tr>\n",
              "      <th>1</th>\n",
              "      <td>2</td>\n",
              "      <td>1</td>\n",
              "      <td>1</td>\n",
              "      <td>Cumings, Mrs. John Bradley (Florence Briggs Th...</td>\n",
              "      <td>1</td>\n",
              "      <td>38.0</td>\n",
              "      <td>1</td>\n",
              "      <td>0</td>\n",
              "      <td>PC 17599</td>\n",
              "      <td>71.2833</td>\n",
              "      <td>C</td>\n",
              "      <td>John</td>\n",
              "      <td>Bradley (Florence Briggs Thayer)</td>\n",
              "      <td>Cumings</td>\n",
              "      <td>Mrs</td>\n",
              "    </tr>\n",
              "    <tr>\n",
              "      <th>2</th>\n",
              "      <td>3</td>\n",
              "      <td>1</td>\n",
              "      <td>3</td>\n",
              "      <td>Heikkinen, Miss. Laina</td>\n",
              "      <td>1</td>\n",
              "      <td>26.0</td>\n",
              "      <td>0</td>\n",
              "      <td>0</td>\n",
              "      <td>STON/O2. 3101282</td>\n",
              "      <td>7.9250</td>\n",
              "      <td>S</td>\n",
              "      <td>Laina</td>\n",
              "      <td></td>\n",
              "      <td>Heikkinen</td>\n",
              "      <td>Miss</td>\n",
              "    </tr>\n",
              "    <tr>\n",
              "      <th>3</th>\n",
              "      <td>4</td>\n",
              "      <td>1</td>\n",
              "      <td>1</td>\n",
              "      <td>Futrelle, Mrs. Jacques Heath (Lily May Peel)</td>\n",
              "      <td>1</td>\n",
              "      <td>35.0</td>\n",
              "      <td>1</td>\n",
              "      <td>0</td>\n",
              "      <td>113803</td>\n",
              "      <td>53.1000</td>\n",
              "      <td>S</td>\n",
              "      <td>Jacques</td>\n",
              "      <td>Heath (Lily May Peel)</td>\n",
              "      <td>Futrelle</td>\n",
              "      <td>Mrs</td>\n",
              "    </tr>\n",
              "    <tr>\n",
              "      <th>4</th>\n",
              "      <td>5</td>\n",
              "      <td>0</td>\n",
              "      <td>3</td>\n",
              "      <td>Allen, Mr. William Henry</td>\n",
              "      <td>0</td>\n",
              "      <td>35.0</td>\n",
              "      <td>0</td>\n",
              "      <td>0</td>\n",
              "      <td>373450</td>\n",
              "      <td>8.0500</td>\n",
              "      <td>S</td>\n",
              "      <td>William</td>\n",
              "      <td>Henry</td>\n",
              "      <td>Allen</td>\n",
              "      <td>Mr</td>\n",
              "    </tr>\n",
              "  </tbody>\n",
              "</table>\n",
              "</div>\n",
              "      <button class=\"colab-df-convert\" onclick=\"convertToInteractive('df-dccea59f-8c29-4d08-b286-439a2842e865')\"\n",
              "              title=\"Convert this dataframe to an interactive table.\"\n",
              "              style=\"display:none;\">\n",
              "        \n",
              "  <svg xmlns=\"http://www.w3.org/2000/svg\" height=\"24px\"viewBox=\"0 0 24 24\"\n",
              "       width=\"24px\">\n",
              "    <path d=\"M0 0h24v24H0V0z\" fill=\"none\"/>\n",
              "    <path d=\"M18.56 5.44l.94 2.06.94-2.06 2.06-.94-2.06-.94-.94-2.06-.94 2.06-2.06.94zm-11 1L8.5 8.5l.94-2.06 2.06-.94-2.06-.94L8.5 2.5l-.94 2.06-2.06.94zm10 10l.94 2.06.94-2.06 2.06-.94-2.06-.94-.94-2.06-.94 2.06-2.06.94z\"/><path d=\"M17.41 7.96l-1.37-1.37c-.4-.4-.92-.59-1.43-.59-.52 0-1.04.2-1.43.59L10.3 9.45l-7.72 7.72c-.78.78-.78 2.05 0 2.83L4 21.41c.39.39.9.59 1.41.59.51 0 1.02-.2 1.41-.59l7.78-7.78 2.81-2.81c.8-.78.8-2.07 0-2.86zM5.41 20L4 18.59l7.72-7.72 1.47 1.35L5.41 20z\"/>\n",
              "  </svg>\n",
              "      </button>\n",
              "      \n",
              "  <style>\n",
              "    .colab-df-container {\n",
              "      display:flex;\n",
              "      flex-wrap:wrap;\n",
              "      gap: 12px;\n",
              "    }\n",
              "\n",
              "    .colab-df-convert {\n",
              "      background-color: #E8F0FE;\n",
              "      border: none;\n",
              "      border-radius: 50%;\n",
              "      cursor: pointer;\n",
              "      display: none;\n",
              "      fill: #1967D2;\n",
              "      height: 32px;\n",
              "      padding: 0 0 0 0;\n",
              "      width: 32px;\n",
              "    }\n",
              "\n",
              "    .colab-df-convert:hover {\n",
              "      background-color: #E2EBFA;\n",
              "      box-shadow: 0px 1px 2px rgba(60, 64, 67, 0.3), 0px 1px 3px 1px rgba(60, 64, 67, 0.15);\n",
              "      fill: #174EA6;\n",
              "    }\n",
              "\n",
              "    [theme=dark] .colab-df-convert {\n",
              "      background-color: #3B4455;\n",
              "      fill: #D2E3FC;\n",
              "    }\n",
              "\n",
              "    [theme=dark] .colab-df-convert:hover {\n",
              "      background-color: #434B5C;\n",
              "      box-shadow: 0px 1px 3px 1px rgba(0, 0, 0, 0.15);\n",
              "      filter: drop-shadow(0px 1px 2px rgba(0, 0, 0, 0.3));\n",
              "      fill: #FFFFFF;\n",
              "    }\n",
              "  </style>\n",
              "\n",
              "      <script>\n",
              "        const buttonEl =\n",
              "          document.querySelector('#df-dccea59f-8c29-4d08-b286-439a2842e865 button.colab-df-convert');\n",
              "        buttonEl.style.display =\n",
              "          google.colab.kernel.accessAllowed ? 'block' : 'none';\n",
              "\n",
              "        async function convertToInteractive(key) {\n",
              "          const element = document.querySelector('#df-dccea59f-8c29-4d08-b286-439a2842e865');\n",
              "          const dataTable =\n",
              "            await google.colab.kernel.invokeFunction('convertToInteractive',\n",
              "                                                     [key], {});\n",
              "          if (!dataTable) return;\n",
              "\n",
              "          const docLinkHtml = 'Like what you see? Visit the ' +\n",
              "            '<a target=\"_blank\" href=https://colab.research.google.com/notebooks/data_table.ipynb>data table notebook</a>'\n",
              "            + ' to learn more about interactive tables.';\n",
              "          element.innerHTML = '';\n",
              "          dataTable['output_type'] = 'display_data';\n",
              "          await google.colab.output.renderOutput(dataTable, element);\n",
              "          const docLink = document.createElement('div');\n",
              "          docLink.innerHTML = docLinkHtml;\n",
              "          element.appendChild(docLink);\n",
              "        }\n",
              "      </script>\n",
              "    </div>\n",
              "  </div>\n",
              "  "
            ],
            "text/plain": [
              "   PassengerId  Survived  ...  Last Name Title\n",
              "0            1         0  ...     Braund    Mr\n",
              "1            2         1  ...    Cumings   Mrs\n",
              "2            3         1  ...  Heikkinen  Miss\n",
              "3            4         1  ...   Futrelle   Mrs\n",
              "4            5         0  ...      Allen    Mr\n",
              "\n",
              "[5 rows x 15 columns]"
            ]
          },
          "metadata": {},
          "execution_count": 107
        }
      ],
      "metadata": {
        "id": "k_iXAO19q1QV",
        "outputId": "3056080c-70df-4b77-e484-10cb1e0c3958",
        "colab": {
          "base_uri": "https://localhost:8080/",
          "height": 371
        }
      }
    },
    {
      "cell_type": "markdown",
      "source": [
        "f) Write a function that replaces all missing ages with the average age - (2.5 points)"
      ],
      "metadata": {
        "id": "smISrKrXq1QW"
      }
    },
    {
      "cell_type": "code",
      "execution_count": null,
      "source": [
        "def replace_with_mean(df):\n",
        "    average = df['Age'].mean()\n",
        "    df['Age'] = df['Age'].fillna(average)\n",
        "    print(average)\n",
        "    return df['Age']\n",
        "\n",
        "df['Age'] = replace_with_mean(df)\n",
        "df.head()"
      ],
      "outputs": [
        {
          "output_type": "stream",
          "name": "stdout",
          "text": [
            "29.69911764705882\n"
          ]
        },
        {
          "output_type": "execute_result",
          "data": {
            "text/html": [
              "\n",
              "  <div id=\"df-2cfa3079-ee91-4ff2-883c-783a091347c0\">\n",
              "    <div class=\"colab-df-container\">\n",
              "      <div>\n",
              "<style scoped>\n",
              "    .dataframe tbody tr th:only-of-type {\n",
              "        vertical-align: middle;\n",
              "    }\n",
              "\n",
              "    .dataframe tbody tr th {\n",
              "        vertical-align: top;\n",
              "    }\n",
              "\n",
              "    .dataframe thead th {\n",
              "        text-align: right;\n",
              "    }\n",
              "</style>\n",
              "<table border=\"1\" class=\"dataframe\">\n",
              "  <thead>\n",
              "    <tr style=\"text-align: right;\">\n",
              "      <th></th>\n",
              "      <th>PassengerId</th>\n",
              "      <th>Survived</th>\n",
              "      <th>Pclass</th>\n",
              "      <th>Name</th>\n",
              "      <th>Sex</th>\n",
              "      <th>Age</th>\n",
              "      <th>SibSp</th>\n",
              "      <th>Parch</th>\n",
              "      <th>Ticket</th>\n",
              "      <th>Fare</th>\n",
              "      <th>Embarked</th>\n",
              "      <th>First Name</th>\n",
              "      <th>Middle Name</th>\n",
              "      <th>Last Name</th>\n",
              "      <th>Title</th>\n",
              "    </tr>\n",
              "  </thead>\n",
              "  <tbody>\n",
              "    <tr>\n",
              "      <th>0</th>\n",
              "      <td>1</td>\n",
              "      <td>0</td>\n",
              "      <td>3</td>\n",
              "      <td>Braund, Mr. Owen Harris</td>\n",
              "      <td>0</td>\n",
              "      <td>22.0</td>\n",
              "      <td>1</td>\n",
              "      <td>0</td>\n",
              "      <td>A/5 21171</td>\n",
              "      <td>7.2500</td>\n",
              "      <td>S</td>\n",
              "      <td>Owen</td>\n",
              "      <td>Harris</td>\n",
              "      <td>Braund</td>\n",
              "      <td>Mr</td>\n",
              "    </tr>\n",
              "    <tr>\n",
              "      <th>1</th>\n",
              "      <td>2</td>\n",
              "      <td>1</td>\n",
              "      <td>1</td>\n",
              "      <td>Cumings, Mrs. John Bradley (Florence Briggs Th...</td>\n",
              "      <td>1</td>\n",
              "      <td>38.0</td>\n",
              "      <td>1</td>\n",
              "      <td>0</td>\n",
              "      <td>PC 17599</td>\n",
              "      <td>71.2833</td>\n",
              "      <td>C</td>\n",
              "      <td>John</td>\n",
              "      <td>Bradley (Florence Briggs Thayer)</td>\n",
              "      <td>Cumings</td>\n",
              "      <td>Mrs</td>\n",
              "    </tr>\n",
              "    <tr>\n",
              "      <th>2</th>\n",
              "      <td>3</td>\n",
              "      <td>1</td>\n",
              "      <td>3</td>\n",
              "      <td>Heikkinen, Miss. Laina</td>\n",
              "      <td>1</td>\n",
              "      <td>26.0</td>\n",
              "      <td>0</td>\n",
              "      <td>0</td>\n",
              "      <td>STON/O2. 3101282</td>\n",
              "      <td>7.9250</td>\n",
              "      <td>S</td>\n",
              "      <td>Laina</td>\n",
              "      <td></td>\n",
              "      <td>Heikkinen</td>\n",
              "      <td>Miss</td>\n",
              "    </tr>\n",
              "    <tr>\n",
              "      <th>3</th>\n",
              "      <td>4</td>\n",
              "      <td>1</td>\n",
              "      <td>1</td>\n",
              "      <td>Futrelle, Mrs. Jacques Heath (Lily May Peel)</td>\n",
              "      <td>1</td>\n",
              "      <td>35.0</td>\n",
              "      <td>1</td>\n",
              "      <td>0</td>\n",
              "      <td>113803</td>\n",
              "      <td>53.1000</td>\n",
              "      <td>S</td>\n",
              "      <td>Jacques</td>\n",
              "      <td>Heath (Lily May Peel)</td>\n",
              "      <td>Futrelle</td>\n",
              "      <td>Mrs</td>\n",
              "    </tr>\n",
              "    <tr>\n",
              "      <th>4</th>\n",
              "      <td>5</td>\n",
              "      <td>0</td>\n",
              "      <td>3</td>\n",
              "      <td>Allen, Mr. William Henry</td>\n",
              "      <td>0</td>\n",
              "      <td>35.0</td>\n",
              "      <td>0</td>\n",
              "      <td>0</td>\n",
              "      <td>373450</td>\n",
              "      <td>8.0500</td>\n",
              "      <td>S</td>\n",
              "      <td>William</td>\n",
              "      <td>Henry</td>\n",
              "      <td>Allen</td>\n",
              "      <td>Mr</td>\n",
              "    </tr>\n",
              "  </tbody>\n",
              "</table>\n",
              "</div>\n",
              "      <button class=\"colab-df-convert\" onclick=\"convertToInteractive('df-2cfa3079-ee91-4ff2-883c-783a091347c0')\"\n",
              "              title=\"Convert this dataframe to an interactive table.\"\n",
              "              style=\"display:none;\">\n",
              "        \n",
              "  <svg xmlns=\"http://www.w3.org/2000/svg\" height=\"24px\"viewBox=\"0 0 24 24\"\n",
              "       width=\"24px\">\n",
              "    <path d=\"M0 0h24v24H0V0z\" fill=\"none\"/>\n",
              "    <path d=\"M18.56 5.44l.94 2.06.94-2.06 2.06-.94-2.06-.94-.94-2.06-.94 2.06-2.06.94zm-11 1L8.5 8.5l.94-2.06 2.06-.94-2.06-.94L8.5 2.5l-.94 2.06-2.06.94zm10 10l.94 2.06.94-2.06 2.06-.94-2.06-.94-.94-2.06-.94 2.06-2.06.94z\"/><path d=\"M17.41 7.96l-1.37-1.37c-.4-.4-.92-.59-1.43-.59-.52 0-1.04.2-1.43.59L10.3 9.45l-7.72 7.72c-.78.78-.78 2.05 0 2.83L4 21.41c.39.39.9.59 1.41.59.51 0 1.02-.2 1.41-.59l7.78-7.78 2.81-2.81c.8-.78.8-2.07 0-2.86zM5.41 20L4 18.59l7.72-7.72 1.47 1.35L5.41 20z\"/>\n",
              "  </svg>\n",
              "      </button>\n",
              "      \n",
              "  <style>\n",
              "    .colab-df-container {\n",
              "      display:flex;\n",
              "      flex-wrap:wrap;\n",
              "      gap: 12px;\n",
              "    }\n",
              "\n",
              "    .colab-df-convert {\n",
              "      background-color: #E8F0FE;\n",
              "      border: none;\n",
              "      border-radius: 50%;\n",
              "      cursor: pointer;\n",
              "      display: none;\n",
              "      fill: #1967D2;\n",
              "      height: 32px;\n",
              "      padding: 0 0 0 0;\n",
              "      width: 32px;\n",
              "    }\n",
              "\n",
              "    .colab-df-convert:hover {\n",
              "      background-color: #E2EBFA;\n",
              "      box-shadow: 0px 1px 2px rgba(60, 64, 67, 0.3), 0px 1px 3px 1px rgba(60, 64, 67, 0.15);\n",
              "      fill: #174EA6;\n",
              "    }\n",
              "\n",
              "    [theme=dark] .colab-df-convert {\n",
              "      background-color: #3B4455;\n",
              "      fill: #D2E3FC;\n",
              "    }\n",
              "\n",
              "    [theme=dark] .colab-df-convert:hover {\n",
              "      background-color: #434B5C;\n",
              "      box-shadow: 0px 1px 3px 1px rgba(0, 0, 0, 0.15);\n",
              "      filter: drop-shadow(0px 1px 2px rgba(0, 0, 0, 0.3));\n",
              "      fill: #FFFFFF;\n",
              "    }\n",
              "  </style>\n",
              "\n",
              "      <script>\n",
              "        const buttonEl =\n",
              "          document.querySelector('#df-2cfa3079-ee91-4ff2-883c-783a091347c0 button.colab-df-convert');\n",
              "        buttonEl.style.display =\n",
              "          google.colab.kernel.accessAllowed ? 'block' : 'none';\n",
              "\n",
              "        async function convertToInteractive(key) {\n",
              "          const element = document.querySelector('#df-2cfa3079-ee91-4ff2-883c-783a091347c0');\n",
              "          const dataTable =\n",
              "            await google.colab.kernel.invokeFunction('convertToInteractive',\n",
              "                                                     [key], {});\n",
              "          if (!dataTable) return;\n",
              "\n",
              "          const docLinkHtml = 'Like what you see? Visit the ' +\n",
              "            '<a target=\"_blank\" href=https://colab.research.google.com/notebooks/data_table.ipynb>data table notebook</a>'\n",
              "            + ' to learn more about interactive tables.';\n",
              "          element.innerHTML = '';\n",
              "          dataTable['output_type'] = 'display_data';\n",
              "          await google.colab.output.renderOutput(dataTable, element);\n",
              "          const docLink = document.createElement('div');\n",
              "          docLink.innerHTML = docLinkHtml;\n",
              "          element.appendChild(docLink);\n",
              "        }\n",
              "      </script>\n",
              "    </div>\n",
              "  </div>\n",
              "  "
            ],
            "text/plain": [
              "   PassengerId  Survived  ...  Last Name Title\n",
              "0            1         0  ...     Braund    Mr\n",
              "1            2         1  ...    Cumings   Mrs\n",
              "2            3         1  ...  Heikkinen  Miss\n",
              "3            4         1  ...   Futrelle   Mrs\n",
              "4            5         0  ...      Allen    Mr\n",
              "\n",
              "[5 rows x 15 columns]"
            ]
          },
          "metadata": {},
          "execution_count": 108
        }
      ],
      "metadata": {
        "id": "osCIf_Heq1QW",
        "outputId": "e806c614-a2df-4cfa-f53b-4e40ba1d592e",
        "colab": {
          "base_uri": "https://localhost:8080/",
          "height": 389
        }
      }
    },
    {
      "cell_type": "markdown",
      "source": [
        "The next set of questions focus on visualization. Please use pandas and [matplotlib](https://pypi.org/project/matplotlib/) for all plotting.\n",
        "\n",
        "g) Plot a bar chart of the average age of those that survived and did not survive. Briefly comment on what you observe. - (2.5 points)"
      ],
      "metadata": {
        "id": "i9xlZpAhq1QX"
      }
    },
    {
      "cell_type": "code",
      "execution_count": null,
      "source": [
        "# your code here\n",
        "def plot_avgAge(df):\n",
        "  survived = df['Survived'] == 1\n",
        "  mean_survived = df.loc[survived, 'Age'].mean()\n",
        "  \n",
        "  dead = df['Survived'] == 0\n",
        "  mean_dead = df.loc[dead, 'Age'].mean()\n",
        "  return mean_survived, mean_dead\n",
        "\n",
        "mean_survived, mean_dead = plot_avgAge(df)\n",
        "survived_age = pd.DataFrame({\"survived\":[\"survived\", \"dead\"], \"val\":[mean_survived, mean_dead]})\n",
        "plot = survived_age.plot.bar(x = \"survived\", y = \"val\", rot = 0)"
      ],
      "outputs": [
        {
          "output_type": "display_data",
          "data": {
            "image/png": "[encoded data removed]",
            "text/plain": [
              "<Figure size 432x288 with 1 Axes>"
            ]
          },
          "metadata": {
            "needs_background": "light"
          }
        }
      ],
      "metadata": {
        "id": "v5h7PuL0q1QY",
        "outputId": "0726f9c0-de61-43bd-ad26-245fb52a8999",
        "colab": {
          "base_uri": "https://localhost:8080/",
          "height": 279
        }
      }
    },
    {
      "cell_type": "markdown",
      "source": [
        "Mean age for the dead is higher than survived. This could possibly be because the older people were weaker to handle the stress or because they have to take care of the younger people"
      ],
      "metadata": {
        "id": "KroqeYfRq1QY"
      }
    },
    {
      "cell_type": "markdown",
      "source": [
        "h) Plot a bar chart of the proportion that survived for male and female. Briefly comment on what you observe. - (2.5 points)"
      ],
      "metadata": {
        "id": "s9niKYw9q1QZ"
      }
    },
    {
      "cell_type": "code",
      "execution_count": null,
      "source": [
        "# your code here\n",
        "def plot_sexRatio(df):\n",
        "  male_dead_count = df.loc[(df['Survived'] == 0) & (df['Sex'] == 0), 'Sex'].sum()\n",
        "  print(male_dead_count)\n",
        "  male_survived_count = df.loc[(df['Survived'] == 1) & (df['Sex'] == 0), 'Sex'].sum()\n",
        "  female_survived_count = df.loc[(df['Survived'] == 1) & (df['Sex'] == 1), 'Sex'].sum()\n",
        "  female_dead_count = df.loc[(df['Survived'] == 0) & (df['Sex'] == 1), 'Sex'].sum()\n",
        "\n",
        "  return (male_survived_count, male_dead_count, female_survived_count, female_dead_count)\n",
        "\n",
        "\n",
        "    \n",
        "m_survived, m_dead, f_survived, f_dead = plot_sexRatio(df)\n",
        "survived_proportion = [m_survived, f_survived]\n",
        "dead_proportion = [m_dead, f_dead]\n",
        "index = [\"male\", \"female\"]\n",
        "sex_survival_proportion_df = pd.DataFrame({\"survived\": survived_proportion, \"dead\": dead_proportion}, index = index)\n",
        "sex_survival_proportion_plot = sex_survival_proportion_df.plot.bar(stacked = True)"
      ],
      "outputs": [
        {
          "output_type": "stream",
          "name": "stdout",
          "text": [
            "0\n"
          ]
        },
        {
          "output_type": "display_data",
          "data": {
            "image/png": "[encoded data removed]",
            "text/plain": [
              "<Figure size 432x288 with 1 Axes>"
            ]
          },
          "metadata": {
            "needs_background": "light"
          }
        }
      ],
      "metadata": {
        "id": "qXnhgTlWq1QZ",
        "outputId": "a12b58cd-e84f-4d5a-b700-3fa49cae763e",
        "colab": {
          "base_uri": "https://localhost:8080/",
          "height": 307
        }
      }
    },
    {
      "cell_type": "markdown",
      "source": [
        "-> For some reason, I could not get the male part to work but it seems like female survival rate is much higher than dead, probably resulting in them being escorted out first."
      ],
      "metadata": {
        "id": "qgvvAwVjq1Qa"
      }
    },
    {
      "cell_type": "markdown",
      "source": [
        "i) Plot a bar chart of the proportion that survived for each title. Briefly comment on what you observe. - (5 points)"
      ],
      "metadata": {
        "id": "0JQjMvgEq1Qa"
      }
    },
    {
      "cell_type": "code",
      "execution_count": null,
      "source": [
        "# your code here"
      ],
      "outputs": [],
      "metadata": {
        "id": "-woy6odgq1Qa"
      }
    },
    {
      "cell_type": "markdown",
      "source": [
        "-> your answer here"
      ],
      "metadata": {
        "id": "YNFokbJdq1Qb"
      }
    },
    {
      "cell_type": "markdown",
      "source": [
        "j) Plot a bar chart of the average fare for those that survived and those that did not survive. Briefly comment on what you observe. - (5 points)"
      ],
      "metadata": {
        "id": "UYQZ4Jb-q1Qb"
      }
    },
    {
      "cell_type": "code",
      "execution_count": null,
      "source": [
        "# your code here"
      ],
      "outputs": [],
      "metadata": {
        "id": "ftP5ogMcq1Qc"
      }
    },
    {
      "cell_type": "markdown",
      "source": [
        "-> your answer here"
      ],
      "metadata": {
        "id": "uyL9koE2q1Qc"
      }
    },
    {
      "cell_type": "markdown",
      "source": [
        "k) Create a boxplot for the fare of those that survived and those that did not survive. Briefly comment on what you observe. - (5 points)"
      ],
      "metadata": {
        "id": "3HW3GAifq1Qc"
      }
    },
    {
      "cell_type": "code",
      "execution_count": null,
      "source": [
        "# your code here"
      ],
      "outputs": [],
      "metadata": {
        "id": "zhJIIUXeq1Qd"
      }
    },
    {
      "cell_type": "markdown",
      "source": [
        "-> your answer here"
      ],
      "metadata": {
        "id": "DvbOXvBJq1Qd"
      }
    },
    {
      "cell_type": "markdown",
      "source": [
        "k) Create a function to subtract the mean fare from the actual fare then divide by the standard deviation - (2.5 points)"
      ],
      "metadata": {
        "id": "VrLoacGuq1Qe"
      }
    },
    {
      "cell_type": "code",
      "execution_count": null,
      "source": [
        "# your code here\n",
        "df.head()"
      ],
      "outputs": [],
      "metadata": {
        "id": "-qvyA11eq1Qe"
      }
    },
    {
      "cell_type": "markdown",
      "source": [
        "l) Remove all non-numerical columns from the dataframe. - (2.5 points)"
      ],
      "metadata": {
        "id": "C4hDfpWKq1Qf"
      }
    },
    {
      "cell_type": "code",
      "execution_count": null,
      "source": [
        "df = # < your code here >"
      ],
      "outputs": [],
      "metadata": {
        "id": "swFIoydMq1Qf"
      }
    },
    {
      "cell_type": "markdown",
      "source": [
        "m) Ignoring passenger ID, write a function that returns the names of the N most similar passengers using the euclidean distance? - (15 points)"
      ],
      "metadata": {
        "id": "18pB4hRXq1Qg"
      }
    },
    {
      "cell_type": "code",
      "execution_count": null,
      "source": [
        "def N_most_similar(df, N):\n",
        "    return # < your code here >\n",
        "\n",
        "print(\"The 3 most similar passengers are: \" + str(N_most_similar(df, 3)))"
      ],
      "outputs": [],
      "metadata": {
        "id": "LbGMoOXPq1Qg"
      }
    },
    {
      "cell_type": "markdown",
      "source": [
        "## Exercise 2 - (40 points)\n",
        "\n",
        "Another way to get data is by using APIs. Here we will be using the google books API (https://developers.google.com/books/docs/overview)\n",
        "\n",
        "a) Create a list with these topic strings: Python; Data Science; Data Analysis; Machine Learning; and Deep \n",
        "Learning. Use these topics, one at a time, to query the Google Books API by modifying the code below. - (5 points)"
      ],
      "metadata": {
        "id": "1zV5tdiPq1Qg"
      }
    },
    {
      "cell_type": "code",
      "execution_count": null,
      "source": [
        "import requests\n",
        "import json\n",
        "\n",
        "\"\"\"\n",
        "    Google Books Api\n",
        "    See: https://developers.google.com/books/\n",
        "\"\"\"\n",
        "\n",
        "def get(topic=\"\"):\n",
        "    BASEURL = 'https://www.googleapis.com/books/v1/volumes'\n",
        "    headers = {'Content-Type': 'application/json'}\n",
        "\n",
        "    response = requests.get(BASEURL + \"?q=\" + topic, headers=headers)\n",
        "\n",
        "    if response.status_code == 200:\n",
        "        return json.loads(response.content.decode('utf-8'))\n",
        "\n",
        "    return response\n",
        "lstTopics = [\"Python\", \"Data Science\", \"Data Analysis\", \"Machine Learning\", \"Deep Learning\"]\n",
        "python = get(lstTopics[0])\n",
        "data_science = get(lstTopics[1])\n",
        "data_analytics = get(lstTopics[2])\n",
        "machine_learning = get(lstTopics[3])\n",
        "deep_learning = get(lstTopics[4])"
      ],
      "outputs": [],
      "metadata": {
        "id": "_siKoqhEq1Qh"
      }
    },
    {
      "cell_type": "markdown",
      "source": [
        "b) For each returned JSON string: Convert the JSON string to a dict using `loads( )` then use this to convert it to a DataFrame: `pd.json_normalize( thedict['items'] )`. Then save them as `.csv`. - (5 points)"
      ],
      "metadata": {
        "id": "yv34vSsMq1Qh"
      }
    },
    {
      "cell_type": "code",
      "execution_count": null,
      "source": [
        "# your code here\n",
        "#convert to a df\n",
        "py_df = pd.json_normalize(python['items'])\n",
        "ds_df = pd.json_normalize(data_science['items'])\n",
        "da_df = pd.json_normalize(data_analytics['items'])\n",
        "ml_df = pd.json_normalize(machine_learning['items'])\n",
        "dl_df = pd.json_normalize(deep_learning['items'])\n",
        "\n",
        "#save as csv\n",
        "py_df.to_csv('python.csv')\n",
        "ds_df.to_csv('data_science.csv')\n",
        "da_df.to_csv('data_analytics.csv')\n",
        "ml_df.to_csv('machine_learning.csv')\n",
        "dl_df.to_csv('deep_learning.csv')\n"
      ],
      "outputs": [],
      "metadata": {
        "id": "EMiEtYKEq1Qi"
      }
    },
    {
      "cell_type": "markdown",
      "source": [
        "c) For each DataFrame, relabel `volumeInfo.title` as `Title` and `volumeInfo.authors` as `Authors`. - (5 points)"
      ],
      "metadata": {
        "id": "8GGhyVARq1Qi"
      }
    },
    {
      "cell_type": "code",
      "execution_count": null,
      "source": [
        "# your code here\n",
        "py_df.rename(columns={'volumeInfo.title': 'Title', 'volumeInfo.authors': 'Authors'}, inplace=True)\n",
        "ds_df.rename(columns={'volumeInfo.title': 'Title', 'volumeInfo.authors': 'Authors'}, inplace=True)\n",
        "da_df.rename(columns={'volumeInfo.title': 'Title', 'volumeInfo.authors': 'Authors'}, inplace=True)\n",
        "ml_df.rename(columns={'volumeInfo.title': 'Title', 'volumeInfo.authors': 'Authors'}, inplace=True)\n",
        "dl_df.rename(columns={'volumeInfo.title': 'Title', 'volumeInfo.authors': 'Authors'}, inplace=True)"
      ],
      "outputs": [],
      "metadata": {
        "id": "d8LJPv-bq1Qj"
      }
    },
    {
      "cell_type": "markdown",
      "source": [
        "d) For each DataFrame create a new column called `Topic` with the name of the topic from the API query above. Then merge all DataFrames into one and save it to a new `.csv` file. - (10 points)"
      ],
      "metadata": {
        "id": "FXjJ4L8xq1Qj"
      }
    },
    {
      "cell_type": "code",
      "execution_count": null,
      "source": [
        "# your code here\n",
        "py_df[\"Topic\"] = \"Python\"\n",
        "ds_df[\"Topic\"] = \"Data Science\"\n",
        "da_df[\"Topic\"] = \"Data Analytics\"\n",
        "ml_df[\"Topic\"] = \"Machine Learning\"\n",
        "dl_df[\"Topic\"] = \"Deep Learning\"\n",
        "all_df = pd.concat([py_df, ds_df, da_df, ml_df, dl_df])"
      ],
      "outputs": [],
      "metadata": {
        "id": "P6jSB9RBq1Qj"
      }
    },
    {
      "cell_type": "markdown",
      "source": [
        "e) Write a function that returns all rows whose `Title` contains the word `Data` (case incensitive). - (5 points)"
      ],
      "metadata": {
        "id": "F1t1rchPq1Qk"
      }
    },
    {
      "cell_type": "code",
      "execution_count": null,
      "source": [
        "# your code here\n",
        "def title_date(df):\n",
        "  df = df[df['Title'].str.contains('Data')]\n",
        "  return df\n"
      ],
      "outputs": [],
      "metadata": {
        "id": "Bk9oZHCDq1Qk"
      }
    },
    {
      "cell_type": "markdown",
      "source": [
        "f) Write a function that returns all rows whose `Authors` first or last name starts with the letter `E` - (10 points)"
      ],
      "metadata": {
        "id": "v0VZzmH9q1Qk"
      }
    },
    {
      "cell_type": "code",
      "execution_count": null,
      "source": [
        "# your code here\n",
        "def authors(df):\n",
        "    listAuthors = []\n",
        "    for i, row in df.iterrows():\n",
        "        lstName = row.values[6][0].split(\" \")\n",
        "        # print(lstName)\n",
        "        firstName = lstName[0]\n",
        "        lastName = lstName[-1]\n",
        "        if firstName[0] == \"E\":\n",
        "          listAuthors.append(row)\n",
        "        elif lastName[0] == \"E\":\n",
        "          listAuthors.append(row)\n",
        "    return listAuthors\n",
        "    \n",
        "print(authors(all_df))"
      ],
      "outputs": [
        {
          "output_type": "stream",
          "name": "stdout",
          "text": [
            "[kind                                                                                        books#volume\n",
            "id                                                                                          xDszEAAAQBAJ\n",
            "etag                                                                                         rs3LtOA8Wlo\n",
            "selfLink                                               https://www.googleapis.com/books/v1/volumes/xD...\n",
            "Title                                                                     Build a Career in Data Science\n",
            "volumeInfo.subtitle                                                                                  NaN\n",
            "Authors                                                               [Emily Robinson, Jacqueline Nolis]\n",
            "volumeInfo.publishedDate                                                                      2020-03-06\n",
            "volumeInfo.description                                 Summary You are going to need more than techni...\n",
            "volumeInfo.industryIdentifiers                         [{'type': 'ISBN_13', 'identifier': '9781638350...\n",
            "volumeInfo.readingModes.text                                                                        True\n",
            "volumeInfo.readingModes.image                                                                      False\n",
            "volumeInfo.pageCount                                                                               354.0\n",
            "volumeInfo.printType                                                                                BOOK\n",
            "volumeInfo.averageRating                                                                             NaN\n",
            "volumeInfo.ratingsCount                                                                              NaN\n",
            "volumeInfo.maturityRating                                                                     NOT_MATURE\n",
            "volumeInfo.allowAnonLogging                                                                        False\n",
            "volumeInfo.contentVersion                                                                  preview-1.0.0\n",
            "volumeInfo.panelizationSummary.containsEpubBubbles                                                 False\n",
            "volumeInfo.panelizationSummary.containsImageBubbles                                                False\n",
            "volumeInfo.imageLinks.smallThumbnail                   http://books.google.com/books/content?id=xDszE...\n",
            "volumeInfo.imageLinks.thumbnail                        http://books.google.com/books/content?id=xDszE...\n",
            "volumeInfo.language                                                                                   en\n",
            "volumeInfo.previewLink                                 http://books.google.com/books?id=xDszEAAAQBAJ&...\n",
            "volumeInfo.infoLink                                    https://play.google.com/store/books/details?id...\n",
            "volumeInfo.canonicalVolumeLink                         https://play.google.com/store/books/details?id...\n",
            "saleInfo.country                                                                                      US\n",
            "saleInfo.saleability                                                                            FOR_SALE\n",
            "saleInfo.isEbook                                                                                    True\n",
            "accessInfo.country                                                                                    US\n",
            "accessInfo.viewability                                                                           PARTIAL\n",
            "accessInfo.embeddable                                                                               True\n",
            "accessInfo.publicDomain                                                                            False\n",
            "accessInfo.textToSpeechPermission                                              ALLOWED_FOR_ACCESSIBILITY\n",
            "accessInfo.epub.isAvailable                                                                         True\n",
            "accessInfo.pdf.isAvailable                                                                         False\n",
            "accessInfo.webReaderLink                               http://play.google.com/books/reader?id=xDszEAA...\n",
            "accessInfo.accessViewStatus                                                                       SAMPLE\n",
            "accessInfo.quoteSharingAllowed                                                                     False\n",
            "searchInfo.textSnippet                                 About the book Build a Career in Data Science ...\n",
            "volumeInfo.publisher                                                                  Simon and Schuster\n",
            "volumeInfo.categories                                                                        [Computers]\n",
            "saleInfo.listPrice.amount                                                                          28.99\n",
            "saleInfo.listPrice.currencyCode                                                                      USD\n",
            "saleInfo.retailPrice.amount                                                                        28.99\n",
            "saleInfo.retailPrice.currencyCode                                                                    USD\n",
            "saleInfo.buyLink                                       https://play.google.com/store/books/details?id...\n",
            "saleInfo.offers                                        [{'finskyOfferType': 1, 'listPrice': {'amountI...\n",
            "Topic                                                                                       Data Science\n",
            "accessInfo.epub.acsTokenLink                           http://books.google.com/books/download/Build_a...\n",
            "accessInfo.pdf.acsTokenLink                                                                          NaN\n",
            "Name: 6, dtype: object, kind                                                                                        books#volume\n",
            "id                                                                                          UG76DwAAQBAJ\n",
            "etag                                                                                         d4nRqH0bL0w\n",
            "selfLink                                               https://www.googleapis.com/books/v1/volumes/UG...\n",
            "Title                                                                  Data Science in Education Using R\n",
            "volumeInfo.subtitle                                                                                  NaN\n",
            "Authors                                                [Ryan A. Estrellado, Emily A. Freer, Jesse Mos...\n",
            "volumeInfo.publishedDate                                                                      2020-10-26\n",
            "volumeInfo.description                                 Data Science in Education Using R is the go-to...\n",
            "volumeInfo.industryIdentifiers                         [{'type': 'ISBN_13', 'identifier': '9781000200...\n",
            "volumeInfo.readingModes.text                                                                        True\n",
            "volumeInfo.readingModes.image                                                                       True\n",
            "volumeInfo.pageCount                                                                               284.0\n",
            "volumeInfo.printType                                                                                BOOK\n",
            "volumeInfo.averageRating                                                                             NaN\n",
            "volumeInfo.ratingsCount                                                                              NaN\n",
            "volumeInfo.maturityRating                                                                     NOT_MATURE\n",
            "volumeInfo.allowAnonLogging                                                                        False\n",
            "volumeInfo.contentVersion                                                                  preview-1.0.0\n",
            "volumeInfo.panelizationSummary.containsEpubBubbles                                                 False\n",
            "volumeInfo.panelizationSummary.containsImageBubbles                                                False\n",
            "volumeInfo.imageLinks.smallThumbnail                   http://books.google.com/books/content?id=UG76D...\n",
            "volumeInfo.imageLinks.thumbnail                        http://books.google.com/books/content?id=UG76D...\n",
            "volumeInfo.language                                                                                   en\n",
            "volumeInfo.previewLink                                 http://books.google.com/books?id=UG76DwAAQBAJ&...\n",
            "volumeInfo.infoLink                                    https://play.google.com/store/books/details?id...\n",
            "volumeInfo.canonicalVolumeLink                         https://play.google.com/store/books/details?id...\n",
            "saleInfo.country                                                                                      US\n",
            "saleInfo.saleability                                                                            FOR_SALE\n",
            "saleInfo.isEbook                                                                                    True\n",
            "accessInfo.country                                                                                    US\n",
            "accessInfo.viewability                                                                           PARTIAL\n",
            "accessInfo.embeddable                                                                               True\n",
            "accessInfo.publicDomain                                                                            False\n",
            "accessInfo.textToSpeechPermission                                                                ALLOWED\n",
            "accessInfo.epub.isAvailable                                                                         True\n",
            "accessInfo.pdf.isAvailable                                                                          True\n",
            "accessInfo.webReaderLink                               http://play.google.com/books/reader?id=UG76DwA...\n",
            "accessInfo.accessViewStatus                                                                       SAMPLE\n",
            "accessInfo.quoteSharingAllowed                                                                     False\n",
            "searchInfo.textSnippet                                 If you’re just getting started with R in an ed...\n",
            "volumeInfo.publisher                                                                           Routledge\n",
            "volumeInfo.categories                                                                        [Education]\n",
            "saleInfo.listPrice.amount                                                                          48.95\n",
            "saleInfo.listPrice.currencyCode                                                                      USD\n",
            "saleInfo.retailPrice.amount                                                                        37.69\n",
            "saleInfo.retailPrice.currencyCode                                                                    USD\n",
            "saleInfo.buyLink                                       https://play.google.com/store/books/details?id...\n",
            "saleInfo.offers                                        [{'finskyOfferType': 1, 'listPrice': {'amountI...\n",
            "Topic                                                                                       Data Science\n",
            "accessInfo.epub.acsTokenLink                           http://books.google.com/books/download/Data_Sc...\n",
            "accessInfo.pdf.acsTokenLink                            http://books.google.com/books/download/Data_Sc...\n",
            "Name: 8, dtype: object, kind                                                                                        books#volume\n",
            "id                                                                                          NP5bBAAAQBAJ\n",
            "etag                                                                                         aljAOA0mOnc\n",
            "selfLink                                               https://www.googleapis.com/books/v1/volumes/NP...\n",
            "Title                                                                   Introduction to Machine Learning\n",
            "volumeInfo.subtitle                                                                                  NaN\n",
            "Authors                                                                                 [Ethem Alpaydin]\n",
            "volumeInfo.publishedDate                                                                      2014-08-29\n",
            "volumeInfo.description                                 The goal of machine learning is to program com...\n",
            "volumeInfo.industryIdentifiers                         [{'type': 'ISBN_13', 'identifier': '9780262028...\n",
            "volumeInfo.readingModes.text                                                                       False\n",
            "volumeInfo.readingModes.image                                                                       True\n",
            "volumeInfo.pageCount                                                                               640.0\n",
            "volumeInfo.printType                                                                                BOOK\n",
            "volumeInfo.averageRating                                                                             3.0\n",
            "volumeInfo.ratingsCount                                                                              2.0\n",
            "volumeInfo.maturityRating                                                                     NOT_MATURE\n",
            "volumeInfo.allowAnonLogging                                                                        False\n",
            "volumeInfo.contentVersion                                                                  preview-1.0.0\n",
            "volumeInfo.panelizationSummary.containsEpubBubbles                                                   NaN\n",
            "volumeInfo.panelizationSummary.containsImageBubbles                                                  NaN\n",
            "volumeInfo.imageLinks.smallThumbnail                   http://books.google.com/books/content?id=NP5bB...\n",
            "volumeInfo.imageLinks.thumbnail                        http://books.google.com/books/content?id=NP5bB...\n",
            "volumeInfo.language                                                                                   en\n",
            "volumeInfo.previewLink                                 http://books.google.com/books?id=NP5bBAAAQBAJ&...\n",
            "volumeInfo.infoLink                                    http://books.google.com/books?id=NP5bBAAAQBAJ&...\n",
            "volumeInfo.canonicalVolumeLink                         https://books.google.com/books/about/Introduct...\n",
            "saleInfo.country                                                                                      US\n",
            "saleInfo.saleability                                                                        NOT_FOR_SALE\n",
            "saleInfo.isEbook                                                                                   False\n",
            "accessInfo.country                                                                                    US\n",
            "accessInfo.viewability                                                                           PARTIAL\n",
            "accessInfo.embeddable                                                                               True\n",
            "accessInfo.publicDomain                                                                            False\n",
            "accessInfo.textToSpeechPermission                                                                ALLOWED\n",
            "accessInfo.epub.isAvailable                                                                        False\n",
            "accessInfo.pdf.isAvailable                                                                         False\n",
            "accessInfo.webReaderLink                               http://play.google.com/books/reader?id=NP5bBAA...\n",
            "accessInfo.accessViewStatus                                                                       SAMPLE\n",
            "accessInfo.quoteSharingAllowed                                                                     False\n",
            "searchInfo.textSnippet                                 Introduction -- Supervised learning -- Bayesia...\n",
            "volumeInfo.publisher                                                                           MIT Press\n",
            "volumeInfo.categories                                                                        [Computers]\n",
            "saleInfo.listPrice.amount                                                                            NaN\n",
            "saleInfo.listPrice.currencyCode                                                                      NaN\n",
            "saleInfo.retailPrice.amount                                                                          NaN\n",
            "saleInfo.retailPrice.currencyCode                                                                    NaN\n",
            "saleInfo.buyLink                                                                                     NaN\n",
            "saleInfo.offers                                                                                      NaN\n",
            "Topic                                                                                   Machine Learning\n",
            "accessInfo.epub.acsTokenLink                                                                         NaN\n",
            "accessInfo.pdf.acsTokenLink                                                                          NaN\n",
            "Name: 3, dtype: object, kind                                                                                        books#volume\n",
            "id                                                                                          LrT4DwAAQBAJ\n",
            "etag                                                                                         uJAneH8K5EQ\n",
            "selfLink                                               https://www.googleapis.com/books/v1/volumes/Lr...\n",
            "Title                                                                      Introduction to Deep Learning\n",
            "volumeInfo.subtitle                                                                                  NaN\n",
            "Authors                                                                                [Eugene Charniak]\n",
            "volumeInfo.publishedDate                                                                      2019-01-29\n",
            "volumeInfo.description                                 A project-based guide to the basics of deep le...\n",
            "volumeInfo.industryIdentifiers                         [{'type': 'ISBN_13', 'identifier': '9780262039...\n",
            "volumeInfo.readingModes.text                                                                       False\n",
            "volumeInfo.readingModes.image                                                                       True\n",
            "volumeInfo.pageCount                                                                               192.0\n",
            "volumeInfo.printType                                                                                BOOK\n",
            "volumeInfo.averageRating                                                                             4.0\n",
            "volumeInfo.ratingsCount                                                                              1.0\n",
            "volumeInfo.maturityRating                                                                     NOT_MATURE\n",
            "volumeInfo.allowAnonLogging                                                                        False\n",
            "volumeInfo.contentVersion                                                                  preview-1.0.0\n",
            "volumeInfo.panelizationSummary.containsEpubBubbles                                                 False\n",
            "volumeInfo.panelizationSummary.containsImageBubbles                                                False\n",
            "volumeInfo.imageLinks.smallThumbnail                   http://books.google.com/books/content?id=LrT4D...\n",
            "volumeInfo.imageLinks.thumbnail                        http://books.google.com/books/content?id=LrT4D...\n",
            "volumeInfo.language                                                                                   en\n",
            "volumeInfo.previewLink                                 http://books.google.com/books?id=LrT4DwAAQBAJ&...\n",
            "volumeInfo.infoLink                                    http://books.google.com/books?id=LrT4DwAAQBAJ&...\n",
            "volumeInfo.canonicalVolumeLink                         https://books.google.com/books/about/Introduct...\n",
            "saleInfo.country                                                                                      US\n",
            "saleInfo.saleability                                                                        NOT_FOR_SALE\n",
            "saleInfo.isEbook                                                                                   False\n",
            "accessInfo.country                                                                                    US\n",
            "accessInfo.viewability                                                                           PARTIAL\n",
            "accessInfo.embeddable                                                                               True\n",
            "accessInfo.publicDomain                                                                            False\n",
            "accessInfo.textToSpeechPermission                                                                ALLOWED\n",
            "accessInfo.epub.isAvailable                                                                        False\n",
            "accessInfo.pdf.isAvailable                                                                         False\n",
            "accessInfo.webReaderLink                               http://play.google.com/books/reader?id=LrT4DwA...\n",
            "accessInfo.accessViewStatus                                                                       SAMPLE\n",
            "accessInfo.quoteSharingAllowed                                                                     False\n",
            "searchInfo.textSnippet                                 The book can be used in both undergraduate and...\n",
            "volumeInfo.publisher                                                                           MIT Press\n",
            "volumeInfo.categories                                                                        [Computers]\n",
            "saleInfo.listPrice.amount                                                                            NaN\n",
            "saleInfo.listPrice.currencyCode                                                                      NaN\n",
            "saleInfo.retailPrice.amount                                                                          NaN\n",
            "saleInfo.retailPrice.currencyCode                                                                    NaN\n",
            "saleInfo.buyLink                                                                                     NaN\n",
            "saleInfo.offers                                                                                      NaN\n",
            "Topic                                                                                      Deep Learning\n",
            "accessInfo.epub.acsTokenLink                                                                         NaN\n",
            "accessInfo.pdf.acsTokenLink                                                                          NaN\n",
            "Name: 4, dtype: object]\n"
          ]
        }
      ],
      "metadata": {
        "id": "Xk4dVxaaq1Qk",
        "outputId": "3368a718-8e8b-49e6-ef2f-9094407762d1",
        "colab": {
          "base_uri": "https://localhost:8080/"
        }
      }
    }
  ],
  "metadata": {
    "interpreter": {
      "hash": "b0fa6594d8f4cbf19f97940f81e996739fb7646882a419484c72d19e05852a7e"
    },
    "kernelspec": {
      "name": "python3",
      "display_name": "Python 3.9.9 64-bit"
    },
    "language_info": {
      "codemirror_mode": {
        "name": "ipython",
        "version": 3
      },
      "file_extension": ".py",
      "mimetype": "text/x-python",
      "name": "python",
      "nbconvert_exporter": "python",
      "pygments_lexer": "ipython3",
      "version": "3.9.9"
    },
    "orig_nbformat": 4,
    "colab": {
      "name": "Copy of homework1.ipynb",
      "provenance": []
    }
  },
  "nbformat": 4,
  "nbformat_minor": 0
}
